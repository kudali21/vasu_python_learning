{
  "nbformat": 4,
  "nbformat_minor": 0,
  "metadata": {
    "colab": {
      "provenance": []
    },
    "kernelspec": {
      "name": "python3",
      "display_name": "Python 3"
    },
    "language_info": {
      "name": "python"
    }
  },
  "cells": [
    {
      "cell_type": "code",
      "execution_count": null,
      "metadata": {
        "id": "WA1GRb5MPeSA"
      },
      "outputs": [],
      "source": [
        "nums = [1,2,3,4,5,6,7,8]\n"
      ]
    },
    {
      "cell_type": "code",
      "source": [
        "for num in nums:\n",
        "  print(num)"
      ],
      "metadata": {
        "colab": {
          "base_uri": "https://localhost:8080/"
        },
        "id": "7DA0FoZkPrbh",
        "outputId": "c20ed08b-a723-4657-e6bb-5dc0d58eca3c"
      },
      "execution_count": null,
      "outputs": [
        {
          "output_type": "stream",
          "name": "stdout",
          "text": [
            "1\n",
            "2\n",
            "3\n",
            "4\n",
            "5\n",
            "6\n",
            "7\n",
            "8\n"
          ]
        }
      ]
    },
    {
      "cell_type": "code",
      "source": [
        "for i in range(0,10):\n",
        "  print(i, end = ' ')"
      ],
      "metadata": {
        "colab": {
          "base_uri": "https://localhost:8080/"
        },
        "id": "8NH0GFrQQxv0",
        "outputId": "16d570e3-0a6a-4f43-83fa-adfb62ea3610"
      },
      "execution_count": null,
      "outputs": [
        {
          "output_type": "stream",
          "name": "stdout",
          "text": [
            "0 1 2 3 4 5 6 7 8 9 "
          ]
        }
      ]
    },
    {
      "cell_type": "code",
      "source": [
        "for num in range(0,11):\n",
        "  if num  % 2 == 0:\n",
        "    print(num)"
      ],
      "metadata": {
        "colab": {
          "base_uri": "https://localhost:8080/"
        },
        "id": "rJ3gN4pTRNXS",
        "outputId": "ce37c9ff-380a-452c-eb2b-416acc0d689c"
      },
      "execution_count": null,
      "outputs": [
        {
          "output_type": "stream",
          "name": "stdout",
          "text": [
            "0\n",
            "2\n",
            "4\n",
            "6\n",
            "8\n",
            "10\n"
          ]
        }
      ]
    },
    {
      "cell_type": "code",
      "source": [
        "#sum of n natural numbers\n",
        "n = int(input('Enter a positive nymber:'))\n",
        "\n",
        "sum = 0\n",
        "\n",
        "for i in range(n+1):\n",
        "\n",
        "   sum += i\n",
        "\n",
        "print(sum)"
      ],
      "metadata": {
        "colab": {
          "base_uri": "https://localhost:8080/"
        },
        "id": "nJJnT67HTVi-",
        "outputId": "6d026c20-c5c1-496e-c489-6f42d1723896"
      },
      "execution_count": null,
      "outputs": [
        {
          "output_type": "stream",
          "name": "stdout",
          "text": [
            "Enter a positive nymber:5\n",
            "15\n"
          ]
        }
      ]
    },
    {
      "cell_type": "code",
      "source": [
        "#break= out of the loop,continue= from the start\n",
        "\n",
        "for i in range(10):\n",
        "  if i == 2:\n",
        "    print('skipping')\n",
        "    continue\n",
        "  if i == 5:\n",
        "    print('breaking')\n",
        "    break\n",
        "  print(i)\n",
        "print('FINISHED')\n"
      ],
      "metadata": {
        "colab": {
          "base_uri": "https://localhost:8080/"
        },
        "id": "6QZHZigNWEVH",
        "outputId": "9a87f517-8161-4406-9b94-2473ebf7ef55"
      },
      "execution_count": null,
      "outputs": [
        {
          "output_type": "stream",
          "name": "stdout",
          "text": [
            "0\n",
            "1\n",
            "skipping\n",
            "3\n",
            "4\n",
            "breaking\n",
            "FINISHED\n"
          ]
        }
      ]
    },
    {
      "cell_type": "code",
      "source": [
        "#while repeatedly executes same statement until the condition is true\n",
        "\n",
        "x = 0\n",
        "\n",
        "while x < 5:\n",
        "  print('x is currently: ',x)\n",
        "  print('x is still less than 10,adding 1 to x')\n",
        "  x +=1 #incremented by 1"
      ],
      "metadata": {
        "colab": {
          "base_uri": "https://localhost:8080/"
        },
        "id": "EQ6XipJVY2_T",
        "outputId": "8fbd9a63-d66d-4f2b-b09e-3e1d43304c79"
      },
      "execution_count": null,
      "outputs": [
        {
          "output_type": "stream",
          "name": "stdout",
          "text": [
            "x is currently:  0\n",
            "x is still less than 10,adding 1 to x\n",
            "x is currently:  1\n",
            "x is still less than 10,adding 1 to x\n",
            "x is currently:  2\n",
            "x is still less than 10,adding 1 to x\n",
            "x is currently:  3\n",
            "x is still less than 10,adding 1 to x\n",
            "x is currently:  4\n",
            "x is still less than 10,adding 1 to x\n"
          ]
        }
      ]
    },
    {
      "cell_type": "code",
      "source": [
        "num = 0\n",
        "while num < 5:\n",
        "  print(num)\n",
        "  num += 1\n",
        "else:\n",
        "  print('Else is executing')"
      ],
      "metadata": {
        "colab": {
          "base_uri": "https://localhost:8080/"
        },
        "id": "hxHF8D3vZ3e_",
        "outputId": "19f6a58b-487d-4eb5-c348-e180a982670f"
      },
      "execution_count": null,
      "outputs": [
        {
          "output_type": "stream",
          "name": "stdout",
          "text": [
            "0\n",
            "1\n",
            "2\n",
            "3\n",
            "4\n",
            "Else is executing\n"
          ]
        }
      ]
    },
    {
      "cell_type": "code",
      "source": [
        "n = int(input('enter a postive number:'))\n",
        "\n",
        "sum = 0\n",
        "\n",
        "for i in range(n+1):\n",
        "\n",
        "   sum += i\n",
        "\n",
        "print(sum)"
      ],
      "metadata": {
        "colab": {
          "base_uri": "https://localhost:8080/"
        },
        "id": "7eVb4kC_VZgL",
        "outputId": "8d4343bc-6b7a-424b-cbbb-362ee65dbd61"
      },
      "execution_count": null,
      "outputs": [
        {
          "output_type": "stream",
          "name": "stdout",
          "text": [
            "enter a postive number:5\n",
            "15\n"
          ]
        }
      ]
    },
    {
      "cell_type": "code",
      "source": [
        "n = int(input('enter a positive number'))\n",
        "\n",
        "sum = 0\n",
        "\n",
        "for i in range(n+1):\n",
        "\n",
        "    sum += i\n",
        "\n",
        "print(sum)"
      ],
      "metadata": {
        "colab": {
          "base_uri": "https://localhost:8080/"
        },
        "id": "dmWTKs7HV8bk",
        "outputId": "1c98a179-50be-4f33-bc12-9a3c041cb4b9"
      },
      "execution_count": null,
      "outputs": [
        {
          "output_type": "stream",
          "name": "stdout",
          "text": [
            "enter a positive number10\n",
            "55\n"
          ]
        }
      ]
    },
    {
      "cell_type": "code",
      "source": [
        "for i in range(10):\n",
        "  if i == 2:\n",
        "    print('skipping')\n",
        "    continue\n",
        "  if i == 5:\n",
        "    print('Breaking')\n",
        "    break\n",
        "  print(i)\n",
        "print('finished')"
      ],
      "metadata": {
        "colab": {
          "base_uri": "https://localhost:8080/"
        },
        "id": "4RzqbNCwWOgt",
        "outputId": "a2b15791-3a68-4450-b63c-b26f8a8ab941"
      },
      "execution_count": null,
      "outputs": [
        {
          "output_type": "stream",
          "name": "stdout",
          "text": [
            "0\n",
            "1\n",
            "skipping\n",
            "3\n",
            "4\n",
            "Breaking\n",
            "finished\n"
          ]
        }
      ]
    }
  ]
}