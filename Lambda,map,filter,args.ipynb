{
  "nbformat": 4,
  "nbformat_minor": 0,
  "metadata": {
    "colab": {
      "provenance": []
    },
    "kernelspec": {
      "name": "python3",
      "display_name": "Python 3"
    },
    "language_info": {
      "name": "python"
    }
  },
  "cells": [
    {
      "cell_type": "code",
      "execution_count": 1,
      "metadata": {
        "id": "Jg6hxZIQuTMA"
      },
      "outputs": [],
      "source": [
        "#mapfuntion maps a funtion to an iterable object.\n",
        "def square(num):\n",
        "  return num**2"
      ]
    },
    {
      "cell_type": "code",
      "source": [
        "my_nums = [1,2,3,4,5]"
      ],
      "metadata": {
        "id": "qtGPioRMutWT"
      },
      "execution_count": 2,
      "outputs": []
    },
    {
      "cell_type": "code",
      "source": [
        "map(square,my_nums)"
      ],
      "metadata": {
        "colab": {
          "base_uri": "https://localhost:8080/"
        },
        "id": "9X3ZpdgCuy6j",
        "outputId": "7c61ddad-ea4e-4b31-9956-24bdba15d89a"
      },
      "execution_count": 3,
      "outputs": [
        {
          "output_type": "execute_result",
          "data": {
            "text/plain": [
              "<map at 0x7a55aa893700>"
            ]
          },
          "metadata": {},
          "execution_count": 3
        }
      ]
    },
    {
      "cell_type": "code",
      "source": [
        "list(map(square,my_nums))"
      ],
      "metadata": {
        "colab": {
          "base_uri": "https://localhost:8080/"
        },
        "id": "InTiST_tvJOf",
        "outputId": "251d518c-c207-412b-9947-71e7afae5032"
      },
      "execution_count": 4,
      "outputs": [
        {
          "output_type": "execute_result",
          "data": {
            "text/plain": [
              "[1, 4, 9, 16, 25]"
            ]
          },
          "metadata": {},
          "execution_count": 4
        }
      ]
    },
    {
      "cell_type": "code",
      "source": [
        "def splicer(mystring):\n",
        "    if len(mystring) % 2 == 0:\n",
        "       return 'even'\n",
        "    else:\n",
        "       return mystring[0]"
      ],
      "metadata": {
        "id": "3zetJRuCvqhc"
      },
      "execution_count": 14,
      "outputs": []
    },
    {
      "cell_type": "code",
      "source": [
        "mynames = ['John','cindy','Sarah','kelly','mike']"
      ],
      "metadata": {
        "id": "Uhp6k68twLqH"
      },
      "execution_count": 8,
      "outputs": []
    },
    {
      "cell_type": "code",
      "source": [
        "list(map(splicer,mynames))"
      ],
      "metadata": {
        "colab": {
          "base_uri": "https://localhost:8080/"
        },
        "id": "Md3o5t17wVSh",
        "outputId": "f95ac77d-30df-45ad-ebc0-3c390fb71a7a"
      },
      "execution_count": 15,
      "outputs": [
        {
          "output_type": "execute_result",
          "data": {
            "text/plain": [
              "['even', 'c', 's', 'k', 'even']"
            ]
          },
          "metadata": {},
          "execution_count": 15
        }
      ]
    },
    {
      "cell_type": "code",
      "source": [
        "def check_even(num):\n",
        "    return num % 2 == 0"
      ],
      "metadata": {
        "id": "rurGgi841iwe"
      },
      "execution_count": 17,
      "outputs": []
    },
    {
      "cell_type": "code",
      "source": [
        "nums = [0,1,2,3,4,5,6,7,8,9,10]"
      ],
      "metadata": {
        "id": "w2tOcbRK1urA"
      },
      "execution_count": 18,
      "outputs": []
    },
    {
      "cell_type": "code",
      "source": [
        "filter(check_even,nums)                         #filter"
      ],
      "metadata": {
        "colab": {
          "base_uri": "https://localhost:8080/"
        },
        "id": "vyXdExCh1zRN",
        "outputId": "eea9fba9-c8b5-4cb6-9733-746ced1dc636"
      },
      "execution_count": 19,
      "outputs": [
        {
          "output_type": "execute_result",
          "data": {
            "text/plain": [
              "<filter at 0x7a5576e62e30>"
            ]
          },
          "metadata": {},
          "execution_count": 19
        }
      ]
    },
    {
      "cell_type": "code",
      "source": [
        "list(filter(check_even,nums))"
      ],
      "metadata": {
        "colab": {
          "base_uri": "https://localhost:8080/"
        },
        "id": "Hdxv1ZbQ148U",
        "outputId": "2893b192-fe79-40b8-ba61-c6998dcd82dc"
      },
      "execution_count": 20,
      "outputs": [
        {
          "output_type": "execute_result",
          "data": {
            "text/plain": [
              "[0, 2, 4, 6, 8, 10]"
            ]
          },
          "metadata": {},
          "execution_count": 20
        }
      ]
    },
    {
      "cell_type": "code",
      "source": [
        "#lambda single statement\n",
        "\n",
        "def square(num):\n",
        "    result = num**2\n",
        "    return result"
      ],
      "metadata": {
        "id": "urTjxZ_N2Em7"
      },
      "execution_count": 21,
      "outputs": []
    },
    {
      "cell_type": "code",
      "source": [
        "square(2)"
      ],
      "metadata": {
        "colab": {
          "base_uri": "https://localhost:8080/"
        },
        "id": "iiMujgsn2_bL",
        "outputId": "13755554-3398-4716-ee5d-ead210873bcd"
      },
      "execution_count": 22,
      "outputs": [
        {
          "output_type": "execute_result",
          "data": {
            "text/plain": [
              "4"
            ]
          },
          "metadata": {},
          "execution_count": 22
        }
      ]
    },
    {
      "cell_type": "code",
      "source": [
        "def square(num): return num**2"
      ],
      "metadata": {
        "id": "zn-nF7ts3JSG"
      },
      "execution_count": 24,
      "outputs": []
    },
    {
      "cell_type": "code",
      "source": [],
      "metadata": {
        "id": "l4yws48M3cfD"
      },
      "execution_count": null,
      "outputs": []
    },
    {
      "cell_type": "code",
      "source": [],
      "metadata": {
        "id": "qVHgybVm3WBz"
      },
      "execution_count": null,
      "outputs": []
    }
  ]
}