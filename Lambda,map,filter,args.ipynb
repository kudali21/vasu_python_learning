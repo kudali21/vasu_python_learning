{
  "nbformat": 4,
  "nbformat_minor": 0,
  "metadata": {
    "colab": {
      "provenance": []
    },
    "kernelspec": {
      "name": "python3",
      "display_name": "Python 3"
    },
    "language_info": {
      "name": "python"
    }
  },
  "cells": [
    {
      "cell_type": "code",
      "execution_count": null,
      "metadata": {
        "id": "Jg6hxZIQuTMA"
      },
      "outputs": [],
      "source": [
        "#mapfuntion maps a funtion to an iterable object.\n",
        "def square(num):\n",
        "  return num**2"
      ]
    },
    {
      "cell_type": "code",
      "source": [
        "my_nums = [1,2,3,4,5]"
      ],
      "metadata": {
        "id": "qtGPioRMutWT"
      },
      "execution_count": null,
      "outputs": []
    },
    {
      "cell_type": "code",
      "source": [
        "map(square,my_nums)"
      ],
      "metadata": {
        "colab": {
          "base_uri": "https://localhost:8080/"
        },
        "id": "9X3ZpdgCuy6j",
        "outputId": "7c61ddad-ea4e-4b31-9956-24bdba15d89a"
      },
      "execution_count": null,
      "outputs": [
        {
          "output_type": "execute_result",
          "data": {
            "text/plain": [
              "<map at 0x7a55aa893700>"
            ]
          },
          "metadata": {},
          "execution_count": 3
        }
      ]
    },
    {
      "cell_type": "code",
      "source": [
        "list(map(square,my_nums))"
      ],
      "metadata": {
        "colab": {
          "base_uri": "https://localhost:8080/"
        },
        "id": "InTiST_tvJOf",
        "outputId": "251d518c-c207-412b-9947-71e7afae5032"
      },
      "execution_count": null,
      "outputs": [
        {
          "output_type": "execute_result",
          "data": {
            "text/plain": [
              "[1, 4, 9, 16, 25]"
            ]
          },
          "metadata": {},
          "execution_count": 4
        }
      ]
    },
    {
      "cell_type": "code",
      "source": [
        "def splicer(mystring):\n",
        "    if len(mystring) % 2 == 0:\n",
        "       return 'even'\n",
        "    else:\n",
        "       return mystring[0]"
      ],
      "metadata": {
        "id": "3zetJRuCvqhc"
      },
      "execution_count": null,
      "outputs": []
    },
    {
      "cell_type": "code",
      "source": [
        "mynames = ['John','cindy','Sarah','kelly','mike']"
      ],
      "metadata": {
        "id": "Uhp6k68twLqH"
      },
      "execution_count": null,
      "outputs": []
    },
    {
      "cell_type": "code",
      "source": [
        "list(map(splicer,mynames))"
      ],
      "metadata": {
        "colab": {
          "base_uri": "https://localhost:8080/"
        },
        "id": "Md3o5t17wVSh",
        "outputId": "f95ac77d-30df-45ad-ebc0-3c390fb71a7a"
      },
      "execution_count": null,
      "outputs": [
        {
          "output_type": "execute_result",
          "data": {
            "text/plain": [
              "['even', 'c', 's', 'k', 'even']"
            ]
          },
          "metadata": {},
          "execution_count": 15
        }
      ]
    },
    {
      "cell_type": "code",
      "source": [
        "def check_even(num):\n",
        "    return num % 2 == 0"
      ],
      "metadata": {
        "id": "rurGgi841iwe"
      },
      "execution_count": null,
      "outputs": []
    },
    {
      "cell_type": "code",
      "source": [
        "nums = [0,1,2,3,4,5,6,7,8,9,10]"
      ],
      "metadata": {
        "id": "w2tOcbRK1urA"
      },
      "execution_count": 7,
      "outputs": []
    },
    {
      "cell_type": "code",
      "source": [
        "filter(check_even,nums)                         #filter"
      ],
      "metadata": {
        "colab": {
          "base_uri": "https://localhost:8080/"
        },
        "id": "vyXdExCh1zRN",
        "outputId": "eea9fba9-c8b5-4cb6-9733-746ced1dc636"
      },
      "execution_count": null,
      "outputs": [
        {
          "output_type": "execute_result",
          "data": {
            "text/plain": [
              "<filter at 0x7a5576e62e30>"
            ]
          },
          "metadata": {},
          "execution_count": 19
        }
      ]
    },
    {
      "cell_type": "code",
      "source": [
        "list(filter(check_even,nums))"
      ],
      "metadata": {
        "colab": {
          "base_uri": "https://localhost:8080/"
        },
        "id": "Hdxv1ZbQ148U",
        "outputId": "2893b192-fe79-40b8-ba61-c6998dcd82dc"
      },
      "execution_count": null,
      "outputs": [
        {
          "output_type": "execute_result",
          "data": {
            "text/plain": [
              "[0, 2, 4, 6, 8, 10]"
            ]
          },
          "metadata": {},
          "execution_count": 20
        }
      ]
    },
    {
      "cell_type": "code",
      "source": [
        "#lambda single statement\n",
        "\n",
        "def square(num):\n",
        "    result = num**2\n",
        "    return result"
      ],
      "metadata": {
        "id": "urTjxZ_N2Em7"
      },
      "execution_count": null,
      "outputs": []
    },
    {
      "cell_type": "code",
      "source": [
        "square(2)"
      ],
      "metadata": {
        "colab": {
          "base_uri": "https://localhost:8080/"
        },
        "id": "iiMujgsn2_bL",
        "outputId": "13755554-3398-4716-ee5d-ead210873bcd"
      },
      "execution_count": null,
      "outputs": [
        {
          "output_type": "execute_result",
          "data": {
            "text/plain": [
              "4"
            ]
          },
          "metadata": {},
          "execution_count": 22
        }
      ]
    },
    {
      "cell_type": "code",
      "source": [
        "def square(num): return num**2"
      ],
      "metadata": {
        "id": "zn-nF7ts3JSG"
      },
      "execution_count": null,
      "outputs": []
    },
    {
      "cell_type": "code",
      "source": [
        "lambda num: num ** 2"
      ],
      "metadata": {
        "id": "l4yws48M3cfD",
        "colab": {
          "base_uri": "https://localhost:8080/"
        },
        "outputId": "6913094e-b20c-4223-dbd6-08d6b149026d"
      },
      "execution_count": 1,
      "outputs": [
        {
          "output_type": "execute_result",
          "data": {
            "text/plain": [
              "<function __main__.<lambda>(num)>"
            ]
          },
          "metadata": {},
          "execution_count": 1
        }
      ]
    },
    {
      "cell_type": "code",
      "source": [
        "square = lambda num: num**2"
      ],
      "metadata": {
        "id": "qVHgybVm3WBz"
      },
      "execution_count": 2,
      "outputs": []
    },
    {
      "cell_type": "code",
      "source": [
        "square(2)"
      ],
      "metadata": {
        "colab": {
          "base_uri": "https://localhost:8080/"
        },
        "id": "NE0MhROHkxNO",
        "outputId": "7175490b-ef60-4406-a589-9c314f55a786"
      },
      "execution_count": 3,
      "outputs": [
        {
          "output_type": "execute_result",
          "data": {
            "text/plain": [
              "4"
            ]
          },
          "metadata": {},
          "execution_count": 3
        }
      ]
    },
    {
      "cell_type": "code",
      "source": [
        "list(map(lambda num: num ** 2, nums))"
      ],
      "metadata": {
        "colab": {
          "base_uri": "https://localhost:8080/"
        },
        "id": "LIi5bY-Gk0pf",
        "outputId": "1d9abedc-f199-45c3-a1e4-0eeedab661b0"
      },
      "execution_count": 8,
      "outputs": [
        {
          "output_type": "execute_result",
          "data": {
            "text/plain": [
              "[0, 1, 4, 9, 16, 25, 36, 49, 64, 81, 100]"
            ]
          },
          "metadata": {},
          "execution_count": 8
        }
      ]
    },
    {
      "cell_type": "code",
      "source": [
        "list(filter(lambda n: n % 2 == 0,nums))"
      ],
      "metadata": {
        "colab": {
          "base_uri": "https://localhost:8080/"
        },
        "id": "r3HBA2bdlO2h",
        "outputId": "fe48d527-53c8-4ae6-f19b-f833c6a37030"
      },
      "execution_count": 9,
      "outputs": [
        {
          "output_type": "execute_result",
          "data": {
            "text/plain": [
              "[0, 2, 4, 6, 8, 10]"
            ]
          },
          "metadata": {},
          "execution_count": 9
        }
      ]
    },
    {
      "cell_type": "code",
      "source": [
        "lambda s: s[0]"
      ],
      "metadata": {
        "colab": {
          "base_uri": "https://localhost:8080/"
        },
        "id": "ff9_L5IulYUw",
        "outputId": "ea57e795-f6da-46e4-9733-9533a4a01b40"
      },
      "execution_count": 10,
      "outputs": [
        {
          "output_type": "execute_result",
          "data": {
            "text/plain": [
              "<function __main__.<lambda>(s)>"
            ]
          },
          "metadata": {},
          "execution_count": 10
        }
      ]
    },
    {
      "cell_type": "code",
      "source": [
        "lambda s: s[::-1]"
      ],
      "metadata": {
        "colab": {
          "base_uri": "https://localhost:8080/"
        },
        "id": "3j9H7TA2lbZJ",
        "outputId": "e352c9b3-074c-47d3-f098-169783d35d5e"
      },
      "execution_count": 11,
      "outputs": [
        {
          "output_type": "execute_result",
          "data": {
            "text/plain": [
              "<function __main__.<lambda>(s)>"
            ]
          },
          "metadata": {},
          "execution_count": 11
        }
      ]
    },
    {
      "cell_type": "code",
      "source": [
        "lambda x,y : x+y"
      ],
      "metadata": {
        "colab": {
          "base_uri": "https://localhost:8080/"
        },
        "id": "-9SYL6hxlfui",
        "outputId": "d11247f7-c39d-470b-eb36-3bb6efb1974a"
      },
      "execution_count": 12,
      "outputs": [
        {
          "output_type": "execute_result",
          "data": {
            "text/plain": [
              "<function __main__.<lambda>(x, y)>"
            ]
          },
          "metadata": {},
          "execution_count": 12
        }
      ]
    },
    {
      "cell_type": "code",
      "source": [
        "\n",
        "def myfunc(a,b):\n",
        "    return sum((a,b))*.05\n",
        "\n",
        "myfunc(40,60)"
      ],
      "metadata": {
        "colab": {
          "base_uri": "https://localhost:8080/"
        },
        "id": "aQgitlkHlm1D",
        "outputId": "8325bb49-afeb-4d66-fcba-738fae755795"
      },
      "execution_count": 13,
      "outputs": [
        {
          "output_type": "execute_result",
          "data": {
            "text/plain": [
              "5.0"
            ]
          },
          "metadata": {},
          "execution_count": 13
        }
      ]
    },
    {
      "cell_type": "code",
      "source": [
        "def myfunc(a = 0, b = 0, c = 0, d = 0,e= 0):\n",
        "    return sum((a,b,c,d,e))*.05\n",
        "\n",
        "myfunc(40,60,20,30,50)"
      ],
      "metadata": {
        "colab": {
          "base_uri": "https://localhost:8080/"
        },
        "id": "lgraWpuooLKG",
        "outputId": "c2c2208f-8397-4627-aece-d01f12865140"
      },
      "execution_count": 14,
      "outputs": [
        {
          "output_type": "execute_result",
          "data": {
            "text/plain": [
              "10.0"
            ]
          },
          "metadata": {},
          "execution_count": 14
        }
      ]
    },
    {
      "cell_type": "code",
      "source": [
        "#args\n",
        "\n",
        "def myfunc(*args):                      # with * we can give any number of variables\n",
        "    return sum(args)*.05\n",
        "\n",
        "myfunc(40,60,20)"
      ],
      "metadata": {
        "colab": {
          "base_uri": "https://localhost:8080/"
        },
        "id": "gcQhGFtHoj8A",
        "outputId": "0749f0c6-9a91-4294-ea3d-728418e6104d"
      },
      "execution_count": 16,
      "outputs": [
        {
          "output_type": "execute_result",
          "data": {
            "text/plain": [
              "6.0"
            ]
          },
          "metadata": {},
          "execution_count": 16
        }
      ]
    },
    {
      "cell_type": "code",
      "source": [
        "def myfunc(*spam):\n",
        "    return sum(spam)*.05\n",
        "\n",
        "myfunc(20,30,40)"
      ],
      "metadata": {
        "colab": {
          "base_uri": "https://localhost:8080/"
        },
        "id": "D1fCtkhOpDzk",
        "outputId": "0fa6c61d-9911-40b4-f7e6-1f165ce1cf13"
      },
      "execution_count": 17,
      "outputs": [
        {
          "output_type": "execute_result",
          "data": {
            "text/plain": [
              "4.5"
            ]
          },
          "metadata": {},
          "execution_count": 17
        }
      ]
    },
    {
      "cell_type": "code",
      "source": [
        "#kwargs\n",
        "\n",
        "def myfunc(**kwargs):\n",
        "    if 'fruit' in kwargs:\n",
        "      print(f\"my fav fruit is {kwargs['fruit']}\")\n",
        "    else:\n",
        "      print(\"I don't like fruit\")\n",
        "\n",
        "myfunc(fruit= 'pineapple')"
      ],
      "metadata": {
        "colab": {
          "base_uri": "https://localhost:8080/"
        },
        "id": "xDm7pYX_pb2r",
        "outputId": "e5bfeeb0-9689-4b40-a338-9127a3cb0b2f"
      },
      "execution_count": 20,
      "outputs": [
        {
          "output_type": "stream",
          "name": "stdout",
          "text": [
            "my fav fruit is pineapple\n"
          ]
        }
      ]
    },
    {
      "cell_type": "code",
      "source": [
        "myfunc()"
      ],
      "metadata": {
        "colab": {
          "base_uri": "https://localhost:8080/"
        },
        "id": "Ry930SZqqWI3",
        "outputId": "7d33de80-b544-443b-8524-474262a9a99e"
      },
      "execution_count": 21,
      "outputs": [
        {
          "output_type": "stream",
          "name": "stdout",
          "text": [
            "I don't like fruit\n"
          ]
        }
      ]
    },
    {
      "cell_type": "code",
      "source": [
        "#  *args and **kwargs combined\n",
        "\n",
        "def myfunc(*args, **kwargs):\n",
        "    if 'fruit' and 'juice' in kwargs:\n",
        "        print(f\"I like {' and '.join(args)} and my favourite fruit is {kwargs['fruit']}\")\n",
        "        print(f\"May I have some {kwargs['juice']} juice\")\n",
        "    else:\n",
        "      pass\n",
        "\n",
        "myfunc('eggs','spam',fruit='cherries',juice='orange')\n",
        "\n"
      ],
      "metadata": {
        "colab": {
          "base_uri": "https://localhost:8080/"
        },
        "id": "N0wYO784qZ9m",
        "outputId": "c36449a0-b3c3-4346-8e47-eaa05d21816d"
      },
      "execution_count": 26,
      "outputs": [
        {
          "output_type": "stream",
          "name": "stdout",
          "text": [
            "I like eggs and spam and my favourite fruit is cherries\n",
            "May I have some orange juice\n"
          ]
        }
      ]
    },
    {
      "cell_type": "code",
      "source": [],
      "metadata": {
        "id": "VKiV1yN6sRMq"
      },
      "execution_count": null,
      "outputs": []
    }
  ]
}