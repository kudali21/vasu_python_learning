{
  "nbformat": 4,
  "nbformat_minor": 0,
  "metadata": {
    "colab": {
      "provenance": []
    },
    "kernelspec": {
      "name": "python3",
      "display_name": "Python 3"
    },
    "language_info": {
      "name": "python"
    }
  },
  "cells": [
    {
      "cell_type": "code",
      "execution_count": null,
      "metadata": {
        "colab": {
          "base_uri": "https://localhost:8080/"
        },
        "id": "w01QgZ4o9ylO",
        "outputId": "0afaae1c-805b-4a3b-9a63-d18865506873"
      },
      "outputs": [
        {
          "output_type": "execute_result",
          "data": {
            "text/plain": [
              "[0, 1, 2, 3, 4, 5, 6, 7, 8, 9, 10]"
            ]
          },
          "metadata": {},
          "execution_count": 2
        }
      ],
      "source": [
        "list(range(0,11))"
      ]
    },
    {
      "cell_type": "code",
      "source": [
        "list(range(0,11,2))"
      ],
      "metadata": {
        "colab": {
          "base_uri": "https://localhost:8080/"
        },
        "id": "Ecgx1GEBrH-C",
        "outputId": "f2b0d3c0-5130-44b1-cfc0-9896f9e2b558"
      },
      "execution_count": null,
      "outputs": [
        {
          "output_type": "execute_result",
          "data": {
            "text/plain": [
              "[0, 2, 4, 6, 8, 10]"
            ]
          },
          "metadata": {},
          "execution_count": 3
        }
      ]
    },
    {
      "cell_type": "code",
      "source": [
        "list(range(0,101,10))"
      ],
      "metadata": {
        "colab": {
          "base_uri": "https://localhost:8080/"
        },
        "id": "A_fNmxBcqcd0",
        "outputId": "f0d21166-4337-4285-e46e-8d4c1bfdab54"
      },
      "execution_count": null,
      "outputs": [
        {
          "output_type": "execute_result",
          "data": {
            "text/plain": [
              "[0, 10, 20, 30, 40, 50, 60, 70, 80, 90, 100]"
            ]
          },
          "metadata": {},
          "execution_count": 5
        }
      ]
    },
    {
      "cell_type": "code",
      "source": [
        "#enumerate\n",
        "index_count = 0\n",
        "\n",
        "for letter in 'abcde':\n",
        "    print(\"At index {} the letter is {}\".format(index_count,letter))\n",
        "    index_count += 1\n",
        "\n"
      ],
      "metadata": {
        "colab": {
          "base_uri": "https://localhost:8080/"
        },
        "id": "QSu_rq45-xsW",
        "outputId": "1b2c1128-7ce0-44cd-838f-2dd1aea5eda9"
      },
      "execution_count": null,
      "outputs": [
        {
          "output_type": "stream",
          "name": "stdout",
          "text": [
            "At index 0 the letter is a\n",
            "At index 1 the letter is b\n",
            "At index 2 the letter is c\n",
            "At index 3 the letter is d\n",
            "At index 4 the letter is e\n"
          ]
        }
      ]
    },
    {
      "cell_type": "code",
      "source": [
        "list(enumerate('abcde'))"
      ],
      "metadata": {
        "colab": {
          "base_uri": "https://localhost:8080/"
        },
        "id": "nHNobRgB_SaD",
        "outputId": "c813a3ab-d4c1-40f9-db0b-8fcd4b68c841"
      },
      "execution_count": null,
      "outputs": [
        {
          "output_type": "execute_result",
          "data": {
            "text/plain": [
              "[(0, 'a'), (1, 'b'), (2, 'c'), (3, 'd'), (4, 'e')]"
            ]
          },
          "metadata": {},
          "execution_count": 4
        }
      ]
    },
    {
      "cell_type": "code",
      "source": [
        "list1 = [1,2,3,4]\n",
        "list2 = ['a','b','c','d']"
      ],
      "metadata": {
        "id": "zfFAqNAp_jg3"
      },
      "execution_count": null,
      "outputs": []
    },
    {
      "cell_type": "code",
      "source": [
        "list(zip(list1,list2))"
      ],
      "metadata": {
        "colab": {
          "base_uri": "https://localhost:8080/"
        },
        "id": "2qY2coCR_yWE",
        "outputId": "83532749-e74e-4df3-c350-2cc60fd013dd"
      },
      "execution_count": null,
      "outputs": [
        {
          "output_type": "execute_result",
          "data": {
            "text/plain": [
              "[(1, 'a'), (2, 'b'), (3, 'c'), (4, 'd')]"
            ]
          },
          "metadata": {},
          "execution_count": 6
        }
      ]
    },
    {
      "cell_type": "code",
      "source": [
        "for item1, item2 in zip(list1, list2):\n",
        "    print(\"for this tuple, first item was {} and second item was {}.format(item1,item2)\")"
      ],
      "metadata": {
        "colab": {
          "base_uri": "https://localhost:8080/"
        },
        "id": "uyHtXLkZwsAx",
        "outputId": "8b1e3e31-746c-4b32-be2a-3c46303976e8"
      },
      "execution_count": null,
      "outputs": [
        {
          "output_type": "stream",
          "name": "stdout",
          "text": [
            "for this tuple, first item was {} and second item was {}.format(item1,item2)\n",
            "for this tuple, first item was {} and second item was {}.format(item1,item2)\n",
            "for this tuple, first item was {} and second item was {}.format(item1,item2)\n",
            "for this tuple, first item was {} and second item was {}.format(item1,item2)\n"
          ]
        }
      ]
    },
    {
      "cell_type": "code",
      "source": [
        "'x' in ['x','y','k']"
      ],
      "metadata": {
        "colab": {
          "base_uri": "https://localhost:8080/"
        },
        "id": "vT_8D7xIAHRS",
        "outputId": "e21eb34d-dba1-4d81-80b1-bdcc0ba3645d"
      },
      "execution_count": null,
      "outputs": [
        {
          "output_type": "execute_result",
          "data": {
            "text/plain": [
              "True"
            ]
          },
          "metadata": {},
          "execution_count": 7
        }
      ]
    },
    {
      "cell_type": "code",
      "source": [
        "min(list1)"
      ],
      "metadata": {
        "colab": {
          "base_uri": "https://localhost:8080/"
        },
        "id": "y48WDoztAZaj",
        "outputId": "60c950bd-f3fd-40ee-e384-64339700797b"
      },
      "execution_count": null,
      "outputs": [
        {
          "output_type": "execute_result",
          "data": {
            "text/plain": [
              "1"
            ]
          },
          "metadata": {},
          "execution_count": 8
        }
      ]
    },
    {
      "cell_type": "code",
      "source": [
        "max(list1)"
      ],
      "metadata": {
        "colab": {
          "base_uri": "https://localhost:8080/"
        },
        "id": "vv5f560DAhNr",
        "outputId": "448435e4-5a26-4c59-a01b-0df49934087e"
      },
      "execution_count": null,
      "outputs": [
        {
          "output_type": "execute_result",
          "data": {
            "text/plain": [
              "4"
            ]
          },
          "metadata": {},
          "execution_count": 9
        }
      ]
    },
    {
      "cell_type": "code",
      "source": [
        "#random shuffle\n",
        "\n",
        "from random import shuffle"
      ],
      "metadata": {
        "id": "CjoJMIlwAlA9"
      },
      "execution_count": null,
      "outputs": []
    },
    {
      "cell_type": "code",
      "source": [
        "shuffle(list1)"
      ],
      "metadata": {
        "id": "ZSN30SR6AxD1"
      },
      "execution_count": null,
      "outputs": []
    },
    {
      "cell_type": "code",
      "source": [
        "list1"
      ],
      "metadata": {
        "colab": {
          "base_uri": "https://localhost:8080/"
        },
        "id": "FkqOnnJIA8LO",
        "outputId": "164242d1-f697-4468-af96-371669c95e68"
      },
      "execution_count": null,
      "outputs": [
        {
          "output_type": "execute_result",
          "data": {
            "text/plain": [
              "[4, 3, 1, 2]"
            ]
          },
          "metadata": {},
          "execution_count": 14
        }
      ]
    },
    {
      "cell_type": "code",
      "source": [
        "shuffle(list2)"
      ],
      "metadata": {
        "id": "UcBaHUYbBAHo"
      },
      "execution_count": null,
      "outputs": []
    },
    {
      "cell_type": "code",
      "source": [
        "list2"
      ],
      "metadata": {
        "colab": {
          "base_uri": "https://localhost:8080/"
        },
        "id": "ZpsY_mzkBC9O",
        "outputId": "4b3c9e2c-d4e1-44e2-bef0-e5ef13cb681f"
      },
      "execution_count": null,
      "outputs": [
        {
          "output_type": "execute_result",
          "data": {
            "text/plain": [
              "['c', 'a', 'd', 'b']"
            ]
          },
          "metadata": {},
          "execution_count": 16
        }
      ]
    },
    {
      "cell_type": "code",
      "source": [
        "list(range(0, 20))"
      ],
      "metadata": {
        "colab": {
          "base_uri": "https://localhost:8080/"
        },
        "id": "DGAWj2rxBFbE",
        "outputId": "d227e41d-c0db-446f-b532-db969de27828"
      },
      "execution_count": null,
      "outputs": [
        {
          "output_type": "execute_result",
          "data": {
            "text/plain": [
              "[0, 1, 2, 3, 4, 5, 6, 7, 8, 9, 10, 11, 12, 13, 14, 15, 16, 17, 18, 19]"
            ]
          },
          "metadata": {},
          "execution_count": 22
        }
      ]
    },
    {
      "cell_type": "code",
      "source": [
        "from random import randint"
      ],
      "metadata": {
        "id": "4B059rchBMh3"
      },
      "execution_count": null,
      "outputs": []
    },
    {
      "cell_type": "code",
      "source": [
        "randint(0,20)"
      ],
      "metadata": {
        "colab": {
          "base_uri": "https://localhost:8080/"
        },
        "id": "k246Y5GLBS0_",
        "outputId": "71e0db73-9998-410f-a7ce-421d55dcbe9d"
      },
      "execution_count": null,
      "outputs": [
        {
          "output_type": "execute_result",
          "data": {
            "text/plain": [
              "17"
            ]
          },
          "metadata": {},
          "execution_count": 20
        }
      ]
    },
    {
      "cell_type": "code",
      "source": [
        "input()"
      ],
      "metadata": {
        "colab": {
          "base_uri": "https://localhost:8080/",
          "height": 53
        },
        "id": "hjRyq57nxxBt",
        "outputId": "5a167d9d-7b8b-47eb-9488-75aaab1215c7"
      },
      "execution_count": null,
      "outputs": [
        {
          "name": "stdout",
          "output_type": "stream",
          "text": [
            "5\n"
          ]
        },
        {
          "output_type": "execute_result",
          "data": {
            "text/plain": [
              "'5'"
            ],
            "application/vnd.google.colaboratory.intrinsic+json": {
              "type": "string"
            }
          },
          "metadata": {},
          "execution_count": 21
        }
      ]
    },
    {
      "cell_type": "code",
      "source": [
        "input()"
      ],
      "metadata": {
        "colab": {
          "base_uri": "https://localhost:8080/",
          "height": 53
        },
        "id": "-vJQzFaVBfaX",
        "outputId": "75023380-e742-4553-816e-78a41735ce9e"
      },
      "execution_count": null,
      "outputs": [
        {
          "name": "stdout",
          "output_type": "stream",
          "text": [
            "5\n"
          ]
        },
        {
          "output_type": "execute_result",
          "data": {
            "text/plain": [
              "'5'"
            ],
            "application/vnd.google.colaboratory.intrinsic+json": {
              "type": "string"
            }
          },
          "metadata": {},
          "execution_count": 25
        }
      ]
    },
    {
      "cell_type": "code",
      "source": [
        "lst = [ x for x in 'word']"
      ],
      "metadata": {
        "id": "c5mxq9Nvlf-q"
      },
      "execution_count": 1,
      "outputs": []
    },
    {
      "cell_type": "code",
      "source": [
        "lst"
      ],
      "metadata": {
        "colab": {
          "base_uri": "https://localhost:8080/"
        },
        "id": "mq-u-cRMlypp",
        "outputId": "7798b4af-294b-4f7f-bb19-e1f92f18cccc"
      },
      "execution_count": 2,
      "outputs": [
        {
          "output_type": "execute_result",
          "data": {
            "text/plain": [
              "['w', 'o', 'r', 'd']"
            ]
          },
          "metadata": {},
          "execution_count": 2
        }
      ]
    },
    {
      "cell_type": "code",
      "source": [
        "input('enter name')"
      ],
      "metadata": {
        "colab": {
          "base_uri": "https://localhost:8080/",
          "height": 53
        },
        "id": "qk_2jTJCBqDx",
        "outputId": "fa710e01-79e0-4080-8442-94cfbcf15f74"
      },
      "execution_count": null,
      "outputs": [
        {
          "name": "stdout",
          "output_type": "stream",
          "text": [
            "enter namegfjhk\n"
          ]
        },
        {
          "output_type": "execute_result",
          "data": {
            "text/plain": [
              "'gfjhk'"
            ],
            "application/vnd.google.colaboratory.intrinsic+json": {
              "type": "string"
            }
          },
          "metadata": {},
          "execution_count": 26
        }
      ]
    },
    {
      "cell_type": "code",
      "source": [
        "list = [x**2 for x in range(0,11)]"
      ],
      "metadata": {
        "id": "x3Ulcjt6CVB0"
      },
      "execution_count": null,
      "outputs": []
    },
    {
      "cell_type": "code",
      "source": [
        "list"
      ],
      "metadata": {
        "colab": {
          "base_uri": "https://localhost:8080/"
        },
        "id": "FzTrLQ8PCcjE",
        "outputId": "46cac174-5001-4290-852f-aa85392bb94f"
      },
      "execution_count": null,
      "outputs": [
        {
          "output_type": "execute_result",
          "data": {
            "text/plain": [
              "[0, 1, 4, 9, 16, 25, 36, 49, 64, 81, 100]"
            ]
          },
          "metadata": {},
          "execution_count": 30
        }
      ]
    },
    {
      "cell_type": "code",
      "source": [
        "list = [x for x in range(0,11) if x % 2 == 0]"
      ],
      "metadata": {
        "id": "NLhpg68jCfkp"
      },
      "execution_count": null,
      "outputs": []
    },
    {
      "cell_type": "code",
      "source": [
        "list"
      ],
      "metadata": {
        "colab": {
          "base_uri": "https://localhost:8080/"
        },
        "id": "4hXldVU0CtHQ",
        "outputId": "54a61f3d-1c8d-48b7-86ca-b3a8cbf785e9"
      },
      "execution_count": null,
      "outputs": [
        {
          "output_type": "execute_result",
          "data": {
            "text/plain": [
              "[0, 2, 4, 6, 8, 10]"
            ]
          },
          "metadata": {},
          "execution_count": 32
        }
      ]
    },
    {
      "cell_type": "code",
      "source": [
        "list = [x for x in range(0,11) if x % 2 != 0]"
      ],
      "metadata": {
        "id": "qRTA6jFhCwA6"
      },
      "execution_count": null,
      "outputs": []
    },
    {
      "cell_type": "code",
      "source": [
        "list"
      ],
      "metadata": {
        "colab": {
          "base_uri": "https://localhost:8080/"
        },
        "id": "9lEa7-RfC4Sg",
        "outputId": "c8d5d02a-77bc-4064-e3b6-21bff0ccf17e"
      },
      "execution_count": null,
      "outputs": [
        {
          "output_type": "execute_result",
          "data": {
            "text/plain": [
              "[1, 3, 5, 7, 9]"
            ]
          },
          "metadata": {},
          "execution_count": 34
        }
      ]
    },
    {
      "cell_type": "code",
      "source": [
        "#tempconv\n",
        "\n",
        "celsius = [0,10.7,33.3]\n",
        "\n",
        "fahrenheit = [((9/5)*temp + 32) for temp in celsius]\n",
        "\n",
        "fahrenheit"
      ],
      "metadata": {
        "colab": {
          "base_uri": "https://localhost:8080/"
        },
        "id": "C5OPTaJTC87R",
        "outputId": "963716be-8859-41d6-fbdb-8beb72e875d9"
      },
      "execution_count": null,
      "outputs": [
        {
          "output_type": "execute_result",
          "data": {
            "text/plain": [
              "[32.0, 51.26, 91.94]"
            ]
          },
          "metadata": {},
          "execution_count": 36
        }
      ]
    },
    {
      "cell_type": "code",
      "source": [
        "celcius = [10.2,20,39.3]\n",
        "\n",
        "fahrenheit = [((9/5)*temp + 32) for temp in celcius]\n",
        "\n",
        "fahrenheit"
      ],
      "metadata": {
        "colab": {
          "base_uri": "https://localhost:8080/"
        },
        "id": "4OPXCqd9mCgk",
        "outputId": "249eb7f7-24a6-4101-cb28-e36e31bab822"
      },
      "execution_count": 5,
      "outputs": [
        {
          "output_type": "execute_result",
          "data": {
            "text/plain": [
              "[50.36, 68.0, 102.74]"
            ]
          },
          "metadata": {},
          "execution_count": 5
        }
      ]
    },
    {
      "cell_type": "code",
      "source": [
        "list = [x**2 for x in[x**2 for x in range(0,6)]]\n"
      ],
      "metadata": {
        "id": "q_EewejUDqHK"
      },
      "execution_count": 8,
      "outputs": []
    },
    {
      "cell_type": "code",
      "source": [
        "list"
      ],
      "metadata": {
        "colab": {
          "base_uri": "https://localhost:8080/"
        },
        "id": "9j6JnQ-jD8p4",
        "outputId": "2df1e02d-553e-4fe9-cccf-25270960f070"
      },
      "execution_count": 9,
      "outputs": [
        {
          "output_type": "execute_result",
          "data": {
            "text/plain": [
              "[0, 1, 16, 81, 256, 625]"
            ]
          },
          "metadata": {},
          "execution_count": 9
        }
      ]
    },
    {
      "cell_type": "code",
      "source": [
        "#guessgame\n",
        "\n",
        "print('WELCOME TO GUESS ME!')\n",
        "print(\"I'm thinking of a number between 1 to 100\")\n",
        "print(\"If your guess is more than 10 away from my number, I'll tell you you're COLD\")\n",
        "print(\"If your guess is within 10 of my number, I'll tell you you're WARM\")\n",
        "print(\"If your guess is frather than your most recent guess,I'll tell you you're getting COLDER\")\n",
        "print(\"If your guess is closer than your most recent guess,I'll tell you you're getting WARMER\")\n",
        "print(\"LET'S PLAY!\")\n"
      ],
      "metadata": {
        "colab": {
          "base_uri": "https://localhost:8080/"
        },
        "id": "UpQkyevzEMRc",
        "outputId": "dbf54a35-4202-435c-df74-019021faa064"
      },
      "execution_count": null,
      "outputs": [
        {
          "output_type": "stream",
          "name": "stdout",
          "text": [
            "WELCOME TO GUESS ME!\n",
            "I'm thinking of a number between 1 to 100\n",
            "If your guess is more than 10 away from my number, I'll tell you you're COLD\n",
            "If your guess is within 10 of my number, I'll tell you you're WARM\n",
            "If your guess is frather than your most recent guess,I'll tell you you're getting COLDER\n",
            "If your guess is closer than your most recent guess,I'll tell you you're getting WARMER\n",
            "LET'S PLAY!\n"
          ]
        }
      ]
    },
    {
      "cell_type": "code",
      "source": [
        "from random import randint\n",
        "num = randint(0,50)\n",
        "\n",
        "guesses = [0]\n",
        "\n",
        "while True:\n",
        "  guess = int(input(\"guess any number between 1 and 50: \"))\n",
        "\n",
        "  if guess<1 or guess>50:\n",
        "    print(\"OUT OF BOUNDS\")\n",
        "    continue\n",
        "\n",
        "  if guess == num:\n",
        "    print(\"congrats! you have guessed the number correctly in just {} attempts\".format(len(guesses)))\n",
        "    break\n",
        "  guesses.append(guess)\n",
        "\n",
        "  if guesses[-2]:\n",
        "    if abs(num-guess)<abs(num-guesses[-2]):\n",
        "      print(\"WARMER!\")\n",
        "    else:\n",
        "      print(\"COLDER!\")\n",
        "  else:\n",
        "    if abs(num-guess)<= 10:\n",
        "      print(\"WARM!\")\n",
        "    else:\n",
        "      print(\"COLD!\")\n",
        "\n"
      ],
      "metadata": {
        "id": "H-yMftGYKkYu",
        "colab": {
          "base_uri": "https://localhost:8080/"
        },
        "outputId": "fae53839-2d22-4dce-959b-dd9e8eae0294"
      },
      "execution_count": 1,
      "outputs": [
        {
          "output_type": "stream",
          "name": "stdout",
          "text": [
            "guess any number between 1 and 50: 7\n",
            "COLD!\n",
            "guess any number between 1 and 50: 12\n",
            "WARMER!\n",
            "guess any number between 1 and 50: 15\n",
            "WARMER!\n",
            "guess any number between 1 and 50: 16\n",
            "WARMER!\n",
            "guess any number between 1 and 50: 19\n",
            "WARMER!\n",
            "guess any number between 1 and 50: 22\n",
            "COLDER!\n",
            "guess any number between 1 and 50: 17\n",
            "WARMER!\n",
            "guess any number between 1 and 50: 18\n",
            "congrats! you have guesses the number correctly in just 8 attempts\n"
          ]
        }
      ]
    },
    {
      "cell_type": "code",
      "source": [
        "from random import randint\n",
        "num = randint(0,50)\n",
        "\n",
        "guesses = [0]\n",
        "\n",
        "while True:\n",
        "  guess = int(input(\"enter a number between 0 and 50: \"))\n",
        "\n",
        "  if guess<0 and guess>50:\n",
        "    print(\"Out of Bounds\")\n",
        "    continue\n",
        "\n",
        "  if guess == num:\n",
        "    print(\"Congrats! you have guessed the number correctly\")\n",
        "    break\n",
        "  guesses.append(guess)\n",
        "\n",
        "  if guesses[-2]:\n",
        "    if abs(num-guess)<abs(num-guesses[-2]):\n",
        "      print(\"WARMER!\")\n",
        "    else:\n",
        "      print(\"COLDER!\")\n",
        "  else:\n",
        "      if abs(num-guess)<=10:\n",
        "        print(\"WARM!\")\n",
        "      else:\n",
        "        print(\"COLD!\")\n",
        "\n",
        "\n",
        "\n",
        "\n",
        "\n"
      ],
      "metadata": {
        "colab": {
          "base_uri": "https://localhost:8080/"
        },
        "id": "sTo17C-_rJ7C",
        "outputId": "3ddae03b-322a-467d-9bbb-c24d1267febe"
      },
      "execution_count": 2,
      "outputs": [
        {
          "output_type": "stream",
          "name": "stdout",
          "text": [
            "enter a number between 0 and 50: 25\n",
            "WARM!\n",
            "enter a number between 0 and 50: 20\n",
            "WARMER!\n",
            "enter a number between 0 and 50: 19\n",
            "WARMER!\n",
            "enter a number between 0 and 50: 17\n",
            "WARMER!\n",
            "enter a number between 0 and 50: 15\n",
            "COLDER!\n",
            "enter a number between 0 and 50: 16\n",
            "Congrats! you have guessed the number correctly\n"
          ]
        }
      ]
    },
    {
      "cell_type": "code",
      "source": [
        "lst = [1,2,3,4,5,6,7,8,9]"
      ],
      "metadata": {
        "id": "oHAAnjrQxeat"
      },
      "execution_count": 3,
      "outputs": []
    },
    {
      "cell_type": "code",
      "source": [
        "lst"
      ],
      "metadata": {
        "colab": {
          "base_uri": "https://localhost:8080/"
        },
        "id": "sLYON8ufxmNz",
        "outputId": "3ac99fb9-5518-4b4b-e5ff-e2d7778bdac0"
      },
      "execution_count": 4,
      "outputs": [
        {
          "output_type": "execute_result",
          "data": {
            "text/plain": [
              "[1, 2, 3, 4, 5, 6, 7, 8, 9]"
            ]
          },
          "metadata": {},
          "execution_count": 4
        }
      ]
    },
    {
      "cell_type": "code",
      "source": [
        "lst.count(2)"
      ],
      "metadata": {
        "colab": {
          "base_uri": "https://localhost:8080/"
        },
        "id": "0J2JxxRxxn9U",
        "outputId": "77fbda3b-5862-4d31-a2a4-aa31d8775f93"
      },
      "execution_count": 8,
      "outputs": [
        {
          "output_type": "execute_result",
          "data": {
            "text/plain": [
              "1"
            ]
          },
          "metadata": {},
          "execution_count": 8
        }
      ]
    },
    {
      "cell_type": "code",
      "source": [
        "lst.append(5)"
      ],
      "metadata": {
        "id": "dhT7-m1pxwa-"
      },
      "execution_count": 9,
      "outputs": []
    },
    {
      "cell_type": "code",
      "source": [
        "lst"
      ],
      "metadata": {
        "colab": {
          "base_uri": "https://localhost:8080/"
        },
        "id": "KP6Ye8m7x0cZ",
        "outputId": "562684fa-b605-4d72-ae84-eabd8feef30b"
      },
      "execution_count": 10,
      "outputs": [
        {
          "output_type": "execute_result",
          "data": {
            "text/plain": [
              "[1, 2, 3, 4, 5, 6, 7, 8, 9, 5]"
            ]
          },
          "metadata": {},
          "execution_count": 10
        }
      ]
    },
    {
      "cell_type": "code",
      "source": [
        "help(lst.count)"
      ],
      "metadata": {
        "colab": {
          "base_uri": "https://localhost:8080/"
        },
        "id": "uRSYV7ezx2rF",
        "outputId": "c7492676-003c-4bc8-e246-b163f7158e28"
      },
      "execution_count": 11,
      "outputs": [
        {
          "output_type": "stream",
          "name": "stdout",
          "text": [
            "Help on built-in function count:\n",
            "\n",
            "count(value, /) method of builtins.list instance\n",
            "    Return number of occurrences of value.\n",
            "\n"
          ]
        }
      ]
    },
    {
      "cell_type": "code",
      "source": [
        "#extend\n",
        "\n",
        "lang = ['french','german','spanish']\n",
        "\n",
        "lang1 = ['portugese','latin','canadian']\n",
        "\n",
        "lang.extend(lang1)\n",
        "\n",
        "print(\"lang list: \",lang)"
      ],
      "metadata": {
        "colab": {
          "base_uri": "https://localhost:8080/"
        },
        "id": "GI1oATJJx75e",
        "outputId": "96860cc0-6483-434c-8bca-b2d21f4de214"
      },
      "execution_count": 13,
      "outputs": [
        {
          "output_type": "stream",
          "name": "stdout",
          "text": [
            "lang list:  ['french', 'german', 'spanish', 'portugese', 'latin', 'canadian']\n"
          ]
        }
      ]
    },
    {
      "cell_type": "code",
      "source": [
        "lang = ['french','german','spanish']\n",
        "\n",
        "lang_tuple = ('portugese','latin')\n",
        "\n",
        "lang_set = ('tamil','telugu')\n",
        "\n",
        "lang.extend(lang_tuple)\n",
        "\n",
        "print(\"new lang list: \",lang)\n",
        "\n",
        "lang.extend(lang_set)\n",
        "\n",
        "print(\"newest lang list: \",lang)"
      ],
      "metadata": {
        "colab": {
          "base_uri": "https://localhost:8080/"
        },
        "id": "wDZflJRqybLd",
        "outputId": "62addba9-342b-4e07-e60a-c92a883e4b78"
      },
      "execution_count": 14,
      "outputs": [
        {
          "output_type": "stream",
          "name": "stdout",
          "text": [
            "new lang list:  ['french', 'german', 'spanish', 'portugese', 'latin']\n",
            "newest lang list:  ['french', 'german', 'spanish', 'portugese', 'latin', 'tamil', 'telugu']\n"
          ]
        }
      ]
    },
    {
      "cell_type": "code",
      "source": [
        "#  += operator\n",
        "\n",
        "a= [1,2]\n",
        "\n",
        "b= [3,4]\n",
        "\n",
        "a += b\n",
        "\n",
        "print('a= ',a)"
      ],
      "metadata": {
        "colab": {
          "base_uri": "https://localhost:8080/"
        },
        "id": "XKRlUpx9zQ1g",
        "outputId": "16cefd0f-e431-46fc-bdc4-f71251f23abf"
      },
      "execution_count": 15,
      "outputs": [
        {
          "output_type": "stream",
          "name": "stdout",
          "text": [
            "a=  [1, 2, 3, 4]\n"
          ]
        }
      ]
    },
    {
      "cell_type": "code",
      "source": [
        "#factorial\n",
        "\n",
        "num = int(input(\"enter a number: \"))\n",
        "\n",
        "factorial = 1\n",
        "\n",
        "if num < 0:\n",
        "  print(\"enter a valid number\")\n",
        "elif num == 0:\n",
        "  print(\"the factorial of number is {factorial}\")\n",
        "else:\n",
        "  for i in range(1,num+1):\n",
        "    factorial = factorial*i\n",
        "  print(f\"the factorial of a number is {factorial}\")\n"
      ],
      "metadata": {
        "colab": {
          "base_uri": "https://localhost:8080/"
        },
        "id": "58hWZAtMz52G",
        "outputId": "2f9eff81-f3a3-4dc9-9a1c-78d3cfd18703"
      },
      "execution_count": 17,
      "outputs": [
        {
          "output_type": "stream",
          "name": "stdout",
          "text": [
            "enter a number: 5\n",
            "the factorial of a number is 120\n"
          ]
        }
      ]
    },
    {
      "cell_type": "code",
      "source": [
        "def factorial(num):\n",
        "  if num ==1:\n",
        "    return num\n",
        "  else:\n",
        "    return num*factorial(num-1)\n",
        "\n",
        "num = int(input(\"enter a number: \"))\n",
        "fact = factorial(num)\n",
        "print(f\"the factorial of {num} is {fact}\")"
      ],
      "metadata": {
        "colab": {
          "base_uri": "https://localhost:8080/"
        },
        "id": "8rs1Bu3k1p4x",
        "outputId": "61712966-c3da-448a-c1dc-049cd7be98dc"
      },
      "execution_count": 19,
      "outputs": [
        {
          "output_type": "stream",
          "name": "stdout",
          "text": [
            "enter a number: 6\n",
            "the factorial of 6 is 720\n"
          ]
        }
      ]
    },
    {
      "cell_type": "code",
      "source": [
        "#fiboacci\n",
        "def fibonacci(n):\n",
        "  a = 0\n",
        "  b = 1\n",
        "  for i in range(0,n):\n",
        "    temp = a\n",
        "    a = b\n",
        "    b = temp + a\n",
        "  return a\n",
        "\n",
        "\n",
        "nterms = int(input(\"how many terms: \"))\n",
        "for c in range(0,nterms):\n",
        "  print(fibonacci(c), end = \" \" )\n",
        "\n",
        "\n"
      ],
      "metadata": {
        "colab": {
          "base_uri": "https://localhost:8080/"
        },
        "id": "mi8b3ekx28g7",
        "outputId": "09726e64-ebed-4f27-d99d-6e2c39979faa"
      },
      "execution_count": 20,
      "outputs": [
        {
          "output_type": "stream",
          "name": "stdout",
          "text": [
            "how many terms: 4\n",
            "0\n",
            "1\n",
            "1\n",
            "2\n"
          ]
        }
      ]
    },
    {
      "cell_type": "code",
      "source": [
        "def fibonacci(n):\n",
        "\n",
        "  a = 0\n",
        "  b = 1\n",
        "  for i in range(0,n):\n",
        "    temp = a\n",
        "    a = b\n",
        "    b = temp + a\n",
        "  return a\n",
        "\n",
        "\n",
        "nterms = int(input(\"how many terms: \"))\n",
        "for c in range(0,nterms):\n",
        "  print(fibonacci(c))"
      ],
      "metadata": {
        "colab": {
          "base_uri": "https://localhost:8080/"
        },
        "id": "8qtusYRf4zZx",
        "outputId": "07e38732-84c8-4c47-a82f-9b074c6d0b78"
      },
      "execution_count": 21,
      "outputs": [
        {
          "output_type": "stream",
          "name": "stdout",
          "text": [
            "how many terms: 7\n",
            "0\n",
            "1\n",
            "1\n",
            "2\n",
            "3\n",
            "5\n",
            "8\n"
          ]
        }
      ]
    }
  ]
}