{
  "nbformat": 4,
  "nbformat_minor": 0,
  "metadata": {
    "colab": {
      "provenance": []
    },
    "kernelspec": {
      "name": "python3",
      "display_name": "Python 3"
    },
    "language_info": {
      "name": "python"
    }
  },
  "cells": [
    {
      "cell_type": "code",
      "execution_count": null,
      "metadata": {
        "id": "WA1GRb5MPeSA"
      },
      "outputs": [],
      "source": [
        "nums = [1,2,3,4,5,6,7,8]\n"
      ]
    },
    {
      "cell_type": "code",
      "source": [
        "for num in nums:\n",
        "  print(num)"
      ],
      "metadata": {
        "colab": {
          "base_uri": "https://localhost:8080/"
        },
        "id": "7DA0FoZkPrbh",
        "outputId": "c20ed08b-a723-4657-e6bb-5dc0d58eca3c"
      },
      "execution_count": null,
      "outputs": [
        {
          "output_type": "stream",
          "name": "stdout",
          "text": [
            "1\n",
            "2\n",
            "3\n",
            "4\n",
            "5\n",
            "6\n",
            "7\n",
            "8\n"
          ]
        }
      ]
    },
    {
      "cell_type": "code",
      "source": [
        "for num in nums[::-1]:\n",
        "  print(num)"
      ],
      "metadata": {
        "colab": {
          "base_uri": "https://localhost:8080/"
        },
        "id": "sBFNh_ZN5h2G",
        "outputId": "9e80259a-d993-44dd-aa84-d6913626d362"
      },
      "execution_count": null,
      "outputs": [
        {
          "output_type": "stream",
          "name": "stdout",
          "text": [
            "8\n",
            "7\n",
            "6\n",
            "5\n",
            "4\n",
            "3\n",
            "2\n",
            "1\n"
          ]
        }
      ]
    },
    {
      "cell_type": "code",
      "source": [
        "for i in range(0,10):\n",
        "  print(i)"
      ],
      "metadata": {
        "colab": {
          "base_uri": "https://localhost:8080/"
        },
        "id": "9W0ic3Gk5wwg",
        "outputId": "3d8fefdf-dd83-420b-918a-63451967e400"
      },
      "execution_count": null,
      "outputs": [
        {
          "output_type": "stream",
          "name": "stdout",
          "text": [
            "0\n",
            "1\n",
            "2\n",
            "3\n",
            "4\n",
            "5\n",
            "6\n",
            "7\n",
            "8\n",
            "9\n"
          ]
        }
      ]
    },
    {
      "cell_type": "code",
      "source": [
        "for i in range(0,10):\n",
        "  print(i, end = ' ')"
      ],
      "metadata": {
        "colab": {
          "base_uri": "https://localhost:8080/"
        },
        "id": "8NH0GFrQQxv0",
        "outputId": "16d570e3-0a6a-4f43-83fa-adfb62ea3610"
      },
      "execution_count": null,
      "outputs": [
        {
          "output_type": "stream",
          "name": "stdout",
          "text": [
            "0 1 2 3 4 5 6 7 8 9 "
          ]
        }
      ]
    },
    {
      "cell_type": "code",
      "source": [
        "for num in range(0,11):\n",
        "  if num  % 2 == 0:\n",
        "    print(num)"
      ],
      "metadata": {
        "colab": {
          "base_uri": "https://localhost:8080/"
        },
        "id": "rJ3gN4pTRNXS",
        "outputId": "ce37c9ff-380a-452c-eb2b-416acc0d689c"
      },
      "execution_count": null,
      "outputs": [
        {
          "output_type": "stream",
          "name": "stdout",
          "text": [
            "0\n",
            "2\n",
            "4\n",
            "6\n",
            "8\n",
            "10\n"
          ]
        }
      ]
    },
    {
      "cell_type": "code",
      "source": [
        "#sum of n natural numbers\n",
        "n = int(input(\"enter a positive number:\"))\n",
        "\n",
        "sum = 0\n",
        "\n",
        "for i in range(n+1):\n",
        "  sum += i\n",
        "\n",
        "print(sum)"
      ],
      "metadata": {
        "colab": {
          "base_uri": "https://localhost:8080/"
        },
        "id": "nJJnT67HTVi-",
        "outputId": "aa950276-6322-4c8b-d1d7-2d458606d68d"
      },
      "execution_count": null,
      "outputs": [
        {
          "output_type": "stream",
          "name": "stdout",
          "text": [
            "enter a positive number:5\n",
            "15\n"
          ]
        }
      ]
    },
    {
      "cell_type": "code",
      "source": [
        "#break= out of the loop,continue= from the start\n",
        "\n",
        "for i in range(10):\n",
        "  if i == 2:\n",
        "    print('skipping')\n",
        "    continue\n",
        "  if i == 5:\n",
        "    print('breaking')\n",
        "    break\n",
        "  print(i)\n",
        "print('FINISHED')\n"
      ],
      "metadata": {
        "colab": {
          "base_uri": "https://localhost:8080/"
        },
        "id": "6QZHZigNWEVH",
        "outputId": "9a87f517-8161-4406-9b94-2473ebf7ef55"
      },
      "execution_count": null,
      "outputs": [
        {
          "output_type": "stream",
          "name": "stdout",
          "text": [
            "0\n",
            "1\n",
            "skipping\n",
            "3\n",
            "4\n",
            "breaking\n",
            "FINISHED\n"
          ]
        }
      ]
    },
    {
      "cell_type": "code",
      "source": [
        "#while repeatedly executes same statement until the condition is true\n",
        "\n",
        "x = 0\n",
        "\n",
        "while x < 5:\n",
        "  print(\"x is currently: \",x)\n",
        "  print(\"x is still less than 10, adding 1 to x\")\n",
        "  x += 1"
      ],
      "metadata": {
        "colab": {
          "base_uri": "https://localhost:8080/"
        },
        "id": "EQ6XipJVY2_T",
        "outputId": "50b52095-3ddd-4787-9687-49b044fed4ad"
      },
      "execution_count": null,
      "outputs": [
        {
          "output_type": "stream",
          "name": "stdout",
          "text": [
            "x is currently:  0\n",
            "x is still less than 10, adding 1 to x\n",
            "x is currently:  1\n",
            "x is still less than 10, adding 1 to x\n",
            "x is currently:  2\n",
            "x is still less than 10, adding 1 to x\n",
            "x is currently:  3\n",
            "x is still less than 10, adding 1 to x\n",
            "x is currently:  4\n",
            "x is still less than 10, adding 1 to x\n"
          ]
        }
      ]
    },
    {
      "cell_type": "code",
      "source": [
        "num = 0\n",
        "\n",
        "while num < 5:\n",
        "  print(num)\n",
        "  num += 1\n",
        "else:\n",
        "  print('Executing')\n"
      ],
      "metadata": {
        "colab": {
          "base_uri": "https://localhost:8080/"
        },
        "id": "hxHF8D3vZ3e_",
        "outputId": "42ee4011-a369-414e-9f39-095dc8d9cd48"
      },
      "execution_count": null,
      "outputs": [
        {
          "output_type": "stream",
          "name": "stdout",
          "text": [
            "0\n",
            "1\n",
            "2\n",
            "3\n",
            "4\n",
            "Executing\n"
          ]
        }
      ]
    },
    {
      "cell_type": "code",
      "source": [
        "n = int(input('enter a postive number:'))\n",
        "\n",
        "sum = 0\n",
        "\n",
        "for i in range(n+1):\n",
        "\n",
        "   sum += i\n",
        "\n",
        "print(sum)"
      ],
      "metadata": {
        "colab": {
          "base_uri": "https://localhost:8080/"
        },
        "id": "7eVb4kC_VZgL",
        "outputId": "8d4343bc-6b7a-424b-cbbb-362ee65dbd61"
      },
      "execution_count": null,
      "outputs": [
        {
          "output_type": "stream",
          "name": "stdout",
          "text": [
            "enter a postive number:5\n",
            "15\n"
          ]
        }
      ]
    },
    {
      "cell_type": "code",
      "source": [
        "n = int(input(\"enter a positive number\"))\n",
        "\n",
        "sum = 0\n",
        "\n",
        "for i in range(n+1):\n",
        "\n",
        "  sum += i\n",
        "\n",
        "print(sum)"
      ],
      "metadata": {
        "colab": {
          "base_uri": "https://localhost:8080/"
        },
        "id": "dmWTKs7HV8bk",
        "outputId": "8f914d35-ee1e-4420-c162-ce188a1b2784"
      },
      "execution_count": null,
      "outputs": [
        {
          "output_type": "stream",
          "name": "stdout",
          "text": [
            "enter a positive number8\n",
            "36\n"
          ]
        }
      ]
    },
    {
      "cell_type": "code",
      "source": [
        "for i in range(10):\n",
        "  if i == 2:\n",
        "    print('skipping')\n",
        "    continue\n",
        "  if i == 5:\n",
        "    print('Breaking')\n",
        "    break\n",
        "  print(i)\n",
        "print('finished')"
      ],
      "metadata": {
        "colab": {
          "base_uri": "https://localhost:8080/"
        },
        "id": "4RzqbNCwWOgt",
        "outputId": "a2b15791-3a68-4450-b63c-b26f8a8ab941"
      },
      "execution_count": null,
      "outputs": [
        {
          "output_type": "stream",
          "name": "stdout",
          "text": [
            "0\n",
            "1\n",
            "skipping\n",
            "3\n",
            "4\n",
            "Breaking\n",
            "finished\n"
          ]
        }
      ]
    },
    {
      "cell_type": "code",
      "source": [
        "i = 0\n",
        "\n",
        "while 1==1:\n",
        "  print(i)\n",
        "  i +=1\n",
        "  if i>= 5:\n",
        "    print(\"Breaking\")\n",
        "    break\n",
        "\n",
        "print(\"Finished\")"
      ],
      "metadata": {
        "colab": {
          "base_uri": "https://localhost:8080/"
        },
        "id": "28jJK4Zp9KpJ",
        "outputId": "ead4c969-cfb5-4c58-8673-4aa039d188bd"
      },
      "execution_count": null,
      "outputs": [
        {
          "output_type": "stream",
          "name": "stdout",
          "text": [
            "0\n",
            "1\n",
            "2\n",
            "3\n",
            "4\n",
            "Breaking\n",
            "Finished\n"
          ]
        }
      ]
    },
    {
      "cell_type": "code",
      "source": [
        "#largest among three\n",
        "\n",
        "num1 = int(input(\"Enter first number\"))\n",
        "num2 = int(input(\"Enter second number\"))\n",
        "num3 = int(input(\"Enter third number\"))\n",
        "\n",
        "if(num1 >= num2) and (num1 >= num3):\n",
        "  largest = num1\n",
        "elif(num2 >= num3) and (num2 >= num1):\n",
        "  largest = num2\n",
        "else:\n",
        "  largest = num3\n",
        "\n",
        "print(f\"The largest among {num1} , {num2} , {num3} is {largest}\")\n"
      ],
      "metadata": {
        "colab": {
          "base_uri": "https://localhost:8080/"
        },
        "id": "vHa3ofGY-kOL",
        "outputId": "d1934bfc-5ec9-4943-b289-9e08b41f8d2d"
      },
      "execution_count": null,
      "outputs": [
        {
          "output_type": "stream",
          "name": "stdout",
          "text": [
            "Enter first number6\n",
            "Enter second number7\n",
            "Enter third number3\n",
            "The largest among 6 , 7 , 3 is 7\n"
          ]
        }
      ]
    },
    {
      "cell_type": "code",
      "source": [
        "#swap with temp\n",
        "\n",
        "x = int(input(\"enter a number\"))\n",
        "y = int(input(\"enter another number\"))\n",
        "\n",
        "temp = x\n",
        "\n",
        "x = y\n",
        "\n",
        "y = temp\n",
        "\n",
        "print(\"After swapping: \")\n",
        "print(\"X = \",x)\n",
        "print(\"Y = \",y)"
      ],
      "metadata": {
        "colab": {
          "base_uri": "https://localhost:8080/"
        },
        "id": "NUQLW4V7AWr5",
        "outputId": "f45fa460-0d90-4e09-b8a9-b88a6f656dc6"
      },
      "execution_count": null,
      "outputs": [
        {
          "output_type": "stream",
          "name": "stdout",
          "text": [
            "enter a number7\n",
            "enter another number8\n",
            "After swapping: \n",
            "X =  8\n",
            "Y =  7\n"
          ]
        }
      ]
    },
    {
      "cell_type": "code",
      "source": [
        "#swap without temp\n",
        "\n",
        "x = int(input(\"enter a number\"))\n",
        "y = int(input(\"enter another number\"))\n",
        "\n",
        "x , y = y , x\n",
        "\n",
        "print(\"After swapping: \")\n",
        "print(\"X = \",x)\n",
        "print(\"Y = \",y)"
      ],
      "metadata": {
        "colab": {
          "base_uri": "https://localhost:8080/"
        },
        "id": "APDDcw1xBBc7",
        "outputId": "8699695c-52d1-4993-e7e5-405ed3d6bf24"
      },
      "execution_count": null,
      "outputs": [
        {
          "output_type": "stream",
          "name": "stdout",
          "text": [
            "enter a number6\n",
            "enter another number7\n",
            "After swapping: \n",
            "X =  7\n",
            "Y =  6\n"
          ]
        }
      ]
    },
    {
      "cell_type": "code",
      "source": [
        "ch = input(\"Enter a character: \")\n",
        "if (ch == \"A\" or ch == \"E\" or ch == \"I\" or ch == \"O\" or ch == \"U\" or ch == \"a\" or ch == \"e\" or ch == \"i\" or ch == \"o\" or ch == \"u\"):\n",
        "  print(\"ch is a vowel\")\n",
        "else:\n",
        "  print(\"ch is a consonant\")"
      ],
      "metadata": {
        "colab": {
          "base_uri": "https://localhost:8080/"
        },
        "id": "-V8aFKIuBP1p",
        "outputId": "edfce108-1875-4438-fc17-08c6d169b7f5"
      },
      "execution_count": null,
      "outputs": [
        {
          "output_type": "stream",
          "name": "stdout",
          "text": [
            "Enter a character: v\n",
            "ch is a consonant\n"
          ]
        }
      ]
    },
    {
      "cell_type": "code",
      "source": [
        "def name_of_the_func():\n",
        "  print(2)\n",
        "\n",
        "name_of_the_func()"
      ],
      "metadata": {
        "id": "B2ftBigTCUqt",
        "colab": {
          "base_uri": "https://localhost:8080/"
        },
        "outputId": "4848f8b0-f7d6-4c60-c5e0-ff9cdcf90b48"
      },
      "execution_count": 1,
      "outputs": [
        {
          "output_type": "stream",
          "name": "stdout",
          "text": [
            "2\n"
          ]
        }
      ]
    },
    {
      "cell_type": "code",
      "source": [
        "def say_hello():\n",
        "  print(\"hello\")"
      ],
      "metadata": {
        "id": "iUlUBQCuAqgg"
      },
      "execution_count": 3,
      "outputs": []
    },
    {
      "cell_type": "code",
      "source": [
        "say_hello()"
      ],
      "metadata": {
        "colab": {
          "base_uri": "https://localhost:8080/"
        },
        "id": "JCB3K_rLA4jd",
        "outputId": "6f804b3f-eb6d-4119-c42c-5a6efc0a454d"
      },
      "execution_count": 4,
      "outputs": [
        {
          "output_type": "stream",
          "name": "stdout",
          "text": [
            "hello\n"
          ]
        }
      ]
    },
    {
      "cell_type": "code",
      "source": [
        "def say_name(name):\n",
        "  print(f\"Hello {name}\")\n",
        "\n",
        "say_name(\"Nerchuko\")"
      ],
      "metadata": {
        "colab": {
          "base_uri": "https://localhost:8080/"
        },
        "id": "zE0IDOk1BBIv",
        "outputId": "af7458c3-94de-4128-de3d-c27bce19c7ef"
      },
      "execution_count": 7,
      "outputs": [
        {
          "output_type": "stream",
          "name": "stdout",
          "text": [
            "Hello Nerchuko\n"
          ]
        }
      ]
    },
    {
      "cell_type": "code",
      "source": [
        "def add_num(num1,num2):\n",
        "  return num1 + num2\n",
        "\n",
        "print(add_num(3,4))"
      ],
      "metadata": {
        "colab": {
          "base_uri": "https://localhost:8080/"
        },
        "id": "CuNwHuPLFdfy",
        "outputId": "443754f7-a181-4f1a-dbfb-b334b76f3f50"
      },
      "execution_count": 8,
      "outputs": [
        {
          "output_type": "stream",
          "name": "stdout",
          "text": [
            "7\n"
          ]
        }
      ]
    },
    {
      "cell_type": "code",
      "source": [
        "print(add_num(\"Welcome to India\", \" BTS\"))"
      ],
      "metadata": {
        "colab": {
          "base_uri": "https://localhost:8080/"
        },
        "id": "sHYz-_-0F0Bk",
        "outputId": "10fbeb32-7c13-4b4a-c008-f917ff0626a9"
      },
      "execution_count": 13,
      "outputs": [
        {
          "output_type": "stream",
          "name": "stdout",
          "text": [
            "Welcome to India BTS\n"
          ]
        }
      ]
    },
    {
      "cell_type": "code",
      "source": [
        "#prime or not\n",
        "\n",
        "import math\n",
        "\n",
        "def is_prime(num):\n",
        "  if num % 2 == 0 and num > 2:\n",
        "    return False\n",
        "  else:\n",
        "    return True\n",
        "\n",
        "  #for i in range(3, int(math.sqrt(num))+1):\n",
        "   # if num % i == 0:\n",
        "     # return False\n",
        "  #return True"
      ],
      "metadata": {
        "id": "_ti-Oam5GTHf"
      },
      "execution_count": 18,
      "outputs": []
    },
    {
      "cell_type": "code",
      "source": [
        "is_prime(11)"
      ],
      "metadata": {
        "colab": {
          "base_uri": "https://localhost:8080/"
        },
        "id": "Lrm8gIiNHqYB",
        "outputId": "50991ee8-fdc6-4f50-ec48-87d564e1c5da"
      },
      "execution_count": 21,
      "outputs": [
        {
          "output_type": "execute_result",
          "data": {
            "text/plain": [
              "True"
            ]
          },
          "metadata": {},
          "execution_count": 21
        }
      ]
    },
    {
      "cell_type": "code",
      "source": [
        "#LCM of two numbers\n",
        "\n",
        "def lcm(x,y):\n",
        "  if x > y:\n",
        "    greater = x\n",
        "  else:\n",
        "    greater = y\n",
        "\n",
        "  while True:\n",
        "    if (greater % x == 0) and (greater % y == 0):\n",
        "      lcm = greater\n",
        "      break\n",
        "    greater+=1\n",
        "  return lcm\n",
        "\n",
        "num1 = int(input(\"enter the first number: \"))\n",
        "num2 = int(input(\"enter the second number: \"))\n",
        "\n",
        "LCM = lcm(num1,num2)\n",
        "print(f\"The Lcm of {num1} and {num2} = {LCM}\")\n"
      ],
      "metadata": {
        "colab": {
          "base_uri": "https://localhost:8080/"
        },
        "id": "zliIE37NJvXV",
        "outputId": "4f7bd63b-c83b-45e5-cb92-9fbef6a9d9ab"
      },
      "execution_count": 22,
      "outputs": [
        {
          "output_type": "stream",
          "name": "stdout",
          "text": [
            "enter the first number: 3\n",
            "enter the second number: 4\n",
            "The Lcm of 3 and 4 = 12\n"
          ]
        }
      ]
    },
    {
      "cell_type": "code",
      "source": [
        "def lcm(x,y):\n",
        "  if x > y:\n",
        "    greater = x\n",
        "  else:\n",
        "    greater = y\n",
        "\n",
        "  while True:\n",
        "    if (greater % x == 0) and (greater % y == 0):\n",
        "      lcm = greater\n",
        "      break\n",
        "    greater+=1\n",
        "  return lcm\n",
        "\n",
        "num1 = int(input(\"enter the first number: \"))\n",
        "num2 = int(input(\"enter the second number: \"))\n",
        "\n",
        "LCM = lcm(num1,num2)\n",
        "print(f\"The LCM of {num1} and {num2} = {LCM}\")"
      ],
      "metadata": {
        "colab": {
          "base_uri": "https://localhost:8080/"
        },
        "id": "6eLCOKwGLsGo",
        "outputId": "4d2f54d5-acbc-45d0-de65-aac9e3ba9bbc"
      },
      "execution_count": 26,
      "outputs": [
        {
          "output_type": "stream",
          "name": "stdout",
          "text": [
            "enter the first number: 13\n",
            "enter the second number: 12\n",
            "The LCM of 13 and 12 = 156\n"
          ]
        }
      ]
    },
    {
      "cell_type": "code",
      "source": [
        "#armstrong\n",
        "\n",
        "num = int(input(\"enter a number: \"))\n",
        "\n",
        "sum = 0\n",
        "\n",
        "temp = num\n",
        "\n",
        "while temp:\n",
        "  digit = temp%10\n",
        "  sum += digit**3\n",
        "  temp //= 10\n",
        "\n",
        "if num == sum:\n",
        "  print(f\"{num} is an armstrong number\")\n",
        "else:\n",
        "  print(f\"{num} IS not an armstrong number\")"
      ],
      "metadata": {
        "colab": {
          "base_uri": "https://localhost:8080/"
        },
        "id": "0sL1_QkGNmFk",
        "outputId": "45014af0-fdb8-4b36-9928-9544b1050961"
      },
      "execution_count": 27,
      "outputs": [
        {
          "output_type": "stream",
          "name": "stdout",
          "text": [
            "enter a number: 153\n",
            "153 is an armstrong number\n"
          ]
        }
      ]
    },
    {
      "cell_type": "code",
      "source": [
        "#power\n",
        "def power(base,expo):\n",
        "  if expo == 1:\n",
        "    return base\n",
        "  return base*power(base,expo-1)\n",
        "\n",
        "base = int(input(\"enter base: \"))\n",
        "exp = int(input(\"enter exp: \"))\n",
        "\n",
        "result = power(base,exp)\n",
        "\n",
        "print(result)"
      ],
      "metadata": {
        "colab": {
          "base_uri": "https://localhost:8080/"
        },
        "id": "5UIr7_LPPBmr",
        "outputId": "b3ba38ff-970f-481d-ef16-8c3105ec285b"
      },
      "execution_count": 28,
      "outputs": [
        {
          "output_type": "stream",
          "name": "stdout",
          "text": [
            "enter base: 5\n",
            "enter exp: 2\n",
            "25\n"
          ]
        }
      ]
    },
    {
      "cell_type": "code",
      "source": [
        "def power(base,expo):\n",
        "  if expo == 1:\n",
        "    return base\n",
        "  return base*power(base,expo-1)\n",
        "\n",
        "base = int(input(\"enter base: \"))\n",
        "exp = int(input(\"enter exponent: \"))\n",
        "\n",
        "result = power(base,exp)\n",
        "\n",
        "print(result)\n"
      ],
      "metadata": {
        "colab": {
          "base_uri": "https://localhost:8080/"
        },
        "id": "y6buzpgnP7lL",
        "outputId": "35b290ef-f5ac-4cd5-fca5-f9aa6474e6dd"
      },
      "execution_count": 29,
      "outputs": [
        {
          "output_type": "stream",
          "name": "stdout",
          "text": [
            "enter base: 2\n",
            "enter exponent: 5\n",
            "32\n"
          ]
        }
      ]
    }
  ]
}