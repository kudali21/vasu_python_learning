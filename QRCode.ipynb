import pyqrcode 

def qrcode(data):
    q = pyqrcode.create(data)
    q.png('QR Code.png', scale = 6)
    print('QR Code Generated')

data = "https://r.search.yahoo.com/_ylt=AwrKF2SC1wpmJkgdlbC7HAx.;_ylu=Y29sbwNzZzMEcG9zAzEEdnRpZAMEc2VjA3Ny/RV=2/RE=1712015362/RO=10/RU=https%3a%2f%2fcolab.research.google.com%2f/RK=2/RS=zheDiRDWI7EEU18e_vFQsdC2E90-"
qrcode(data)    
