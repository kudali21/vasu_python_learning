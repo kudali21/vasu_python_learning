{
  "nbformat": 4,
  "nbformat_minor": 0,
  "metadata": {
    "colab": {
      "provenance": []
    },
    "kernelspec": {
      "name": "python3",
      "display_name": "Python 3"
    },
    "language_info": {
      "name": "python"
    }
  },
  "cells": [
    {
      "cell_type": "code",
      "execution_count": null,
      "metadata": {
        "colab": {
          "base_uri": "https://localhost:8080/"
        },
        "id": "YGcBixqAiTHU",
        "outputId": "0aacea06-a2f3-46d0-8bae-5ce0b8a788c2"
      },
      "outputs": [
        {
          "output_type": "stream",
          "name": "stdout",
          "text": [
            "<class 'list'>\n"
          ]
        }
      ],
      "source": [
        "lst = [1,2,3]\n",
        "print(type(lst))"
      ]
    },
    {
      "cell_type": "code",
      "source": [
        "#how many times element is repeated\n",
        "lst.count(2)"
      ],
      "metadata": {
        "colab": {
          "base_uri": "https://localhost:8080/"
        },
        "id": "7dPUVXECi5gl",
        "outputId": "3d1ceb00-fafb-4f0c-9c02-cbe2e6b6a7d5"
      },
      "execution_count": null,
      "outputs": [
        {
          "output_type": "execute_result",
          "data": {
            "text/plain": [
              "1"
            ]
          },
          "metadata": {},
          "execution_count": 2
        }
      ]
    },
    {
      "cell_type": "code",
      "source": [
        "print(type(1))\n",
        "print(type([]))\n",
        "print(type(()))\n",
        "print(type({}))"
      ],
      "metadata": {
        "colab": {
          "base_uri": "https://localhost:8080/"
        },
        "id": "Jm8rDTr4jDaq",
        "outputId": "9b2479e6-cea5-4783-fb14-b8e2a074ca5e"
      },
      "execution_count": null,
      "outputs": [
        {
          "output_type": "stream",
          "name": "stdout",
          "text": [
            "<class 'int'>\n",
            "<class 'list'>\n",
            "<class 'tuple'>\n",
            "<class 'dict'>\n"
          ]
        }
      ]
    },
    {
      "cell_type": "code",
      "source": [
        "#class is the blueprint that defines the nature of object\n",
        "class Sample:\n",
        "  pass\n",
        "\n",
        "#instace of sample\n",
        "x = Sample()\n",
        "\n",
        "print(type(x))"
      ],
      "metadata": {
        "colab": {
          "base_uri": "https://localhost:8080/"
        },
        "id": "he3T3wZtkEP0",
        "outputId": "107c3b28-5b31-4dab-d8ba-ee06f1a36b92"
      },
      "execution_count": null,
      "outputs": [
        {
          "output_type": "stream",
          "name": "stdout",
          "text": [
            "<class '__main__.Sample'>\n"
          ]
        }
      ]
    },
    {
      "cell_type": "code",
      "source": [
        "#attributes = variables\n",
        "#methods = funtions (__init__)\n",
        "\n",
        "class Dog:\n",
        "  def __init__(self,breed):\n",
        "    self.breed = breed\n",
        "\n",
        "sam = Dog(breed = 'Lab')\n",
        "frank = Dog(breed = 'Huskie')\n",
        "\n"
      ],
      "metadata": {
        "id": "7fBR-1aZlx9G"
      },
      "execution_count": null,
      "outputs": []
    },
    {
      "cell_type": "code",
      "source": [
        "sam.breed"
      ],
      "metadata": {
        "colab": {
          "base_uri": "https://localhost:8080/",
          "height": 36
        },
        "id": "NnUdGiKhm1jQ",
        "outputId": "b77dcfe7-1fbd-4b25-dfc3-879204153cf0"
      },
      "execution_count": null,
      "outputs": [
        {
          "output_type": "execute_result",
          "data": {
            "text/plain": [
              "'Lab'"
            ],
            "application/vnd.google.colaboratory.intrinsic+json": {
              "type": "string"
            }
          },
          "metadata": {},
          "execution_count": 6
        }
      ]
    },
    {
      "cell_type": "code",
      "source": [
        "frank.breed"
      ],
      "metadata": {
        "colab": {
          "base_uri": "https://localhost:8080/",
          "height": 36
        },
        "id": "YkMXZgrgm5hi",
        "outputId": "75dc1b3b-9470-40c9-dafc-5a64da3d59e9"
      },
      "execution_count": null,
      "outputs": [
        {
          "output_type": "execute_result",
          "data": {
            "text/plain": [
              "'Huskie'"
            ],
            "application/vnd.google.colaboratory.intrinsic+json": {
              "type": "string"
            }
          },
          "metadata": {},
          "execution_count": 7
        }
      ]
    },
    {
      "cell_type": "code",
      "source": [
        "class Dog:\n",
        "\n",
        "  #Class object Attribute\n",
        "  species = 'mammal'\n",
        "\n",
        "  def __init__(self,breed,name):\n",
        "    self.breed = breed\n",
        "    self.name = name"
      ],
      "metadata": {
        "id": "_xl94rQInC27"
      },
      "execution_count": null,
      "outputs": []
    },
    {
      "cell_type": "code",
      "source": [
        "sam = Dog('Lab','Sam')"
      ],
      "metadata": {
        "id": "np-3EYWCnifS"
      },
      "execution_count": null,
      "outputs": []
    },
    {
      "cell_type": "code",
      "source": [
        "sam.name"
      ],
      "metadata": {
        "colab": {
          "base_uri": "https://localhost:8080/",
          "height": 36
        },
        "id": "Jf6vZ7C8n3AJ",
        "outputId": "429bb9ca-7fe1-4eb7-82ee-4c35a33940aa"
      },
      "execution_count": null,
      "outputs": [
        {
          "output_type": "execute_result",
          "data": {
            "text/plain": [
              "'Sam'"
            ],
            "application/vnd.google.colaboratory.intrinsic+json": {
              "type": "string"
            }
          },
          "metadata": {},
          "execution_count": 10
        }
      ]
    },
    {
      "cell_type": "code",
      "source": [
        "sam.species"
      ],
      "metadata": {
        "colab": {
          "base_uri": "https://localhost:8080/",
          "height": 36
        },
        "id": "Mo2cCNNMn5wy",
        "outputId": "a3be97c2-c372-4c73-d220-4ba37782a150"
      },
      "execution_count": null,
      "outputs": [
        {
          "output_type": "execute_result",
          "data": {
            "text/plain": [
              "'mammal'"
            ],
            "application/vnd.google.colaboratory.intrinsic+json": {
              "type": "string"
            }
          },
          "metadata": {},
          "execution_count": 11
        }
      ]
    },
    {
      "cell_type": "code",
      "source": [
        "#methods object method = (self)\n",
        "#class method = (cls)\n",
        "#static method = ()\n",
        "\n"
      ],
      "metadata": {
        "id": "8FKeYcS5qPKb"
      },
      "execution_count": null,
      "outputs": []
    },
    {
      "cell_type": "code",
      "source": [
        "class Circle:\n",
        "    pi = 3.14\n",
        "\n",
        "    def __init__(self,radius=1):\n",
        "        self.radius = radius\n",
        "        self.area = radius * radius * Circle.pi\n",
        "\n",
        "    def setRadius(self,new_radius):\n",
        "        self.radius = new_radius\n",
        "        self.area = new_radius * new_radius * self.pi\n",
        "\n",
        "    def getCircumference(self):\n",
        "        return self.radius * self.pi *2\n",
        "    @classmethod\n",
        "    def getpi(cls):\n",
        "        print(\"Value of Pi\",cls.pi)\n",
        "    @staticmethod\n",
        "    def display():\n",
        "         print(\"Area and Circumference are calculated\")\n",
        "\n",
        "c = Circle()\n",
        "Circle.getpi()\n",
        "Circle.display()\n",
        "\n",
        "print('Radius is: ',c.radius)\n",
        "print('Area is: ',c.area)\n",
        "print('Circumference is: ',c.getCircumference())\n",
        "\n"
      ],
      "metadata": {
        "colab": {
          "base_uri": "https://localhost:8080/"
        },
        "id": "tw6-Q1hErRIv",
        "outputId": "aa59dc38-29ce-4659-b962-b0b91901feaa"
      },
      "execution_count": null,
      "outputs": [
        {
          "output_type": "stream",
          "name": "stdout",
          "text": [
            "Value of Pi 3.14\n",
            "Area and Circumference are calculated\n",
            "Radius is:  1\n",
            "Area is:  3.14\n",
            "Circumference is:  6.28\n"
          ]
        }
      ]
    },
    {
      "cell_type": "code",
      "source": [
        "#inheritance\n",
        "class Animal:\n",
        "    def __init__(self):\n",
        "        print(\"Animal created\")\n",
        "\n",
        "    def whoAmI(self):\n",
        "        print(\"Animal\")\n",
        "\n",
        "    def eat(self):\n",
        "        print(\"Eating\")\n",
        "\n",
        "class Dog(Animal):\n",
        "    def __init__(self):\n",
        "        Animal.__init__(self)\n",
        "        #Super().__init__()\n",
        "        print(\"Dod Created\")\n",
        "\n",
        "    def whoAmI(self):\n",
        "        print(\"Dog\")\n",
        "\n",
        "    def bark(self):\n",
        "        print(\"Woof!\")"
      ],
      "metadata": {
        "id": "Jmo3AjYQCkFO"
      },
      "execution_count": null,
      "outputs": []
    },
    {
      "cell_type": "code",
      "source": [
        "d = Dog()"
      ],
      "metadata": {
        "colab": {
          "base_uri": "https://localhost:8080/"
        },
        "id": "dPpmECLEEUDe",
        "outputId": "507ec398-c70d-4a8e-b44f-e9018a547e9f"
      },
      "execution_count": null,
      "outputs": [
        {
          "output_type": "stream",
          "name": "stdout",
          "text": [
            "Animal created\n",
            "Dod Created\n"
          ]
        }
      ]
    },
    {
      "cell_type": "code",
      "source": [
        "d.whoAmI()"
      ],
      "metadata": {
        "colab": {
          "base_uri": "https://localhost:8080/"
        },
        "id": "41E0JoJzHCj0",
        "outputId": "344d2d18-2576-4674-a7a4-d175fca3a0e5"
      },
      "execution_count": null,
      "outputs": [
        {
          "output_type": "stream",
          "name": "stdout",
          "text": [
            "Dog\n"
          ]
        }
      ]
    },
    {
      "cell_type": "code",
      "source": [
        "d.eat()"
      ],
      "metadata": {
        "colab": {
          "base_uri": "https://localhost:8080/"
        },
        "id": "Jh4HLn2XHJRB",
        "outputId": "c3a09167-18af-417e-ffc5-610d27569773"
      },
      "execution_count": null,
      "outputs": [
        {
          "output_type": "stream",
          "name": "stdout",
          "text": [
            "Eating\n"
          ]
        }
      ]
    },
    {
      "cell_type": "code",
      "source": [
        "d.bark()"
      ],
      "metadata": {
        "colab": {
          "base_uri": "https://localhost:8080/"
        },
        "id": "irLXcWCKHOiU",
        "outputId": "b2132efc-29ba-4f67-90da-aa9dd5b2b31b"
      },
      "execution_count": null,
      "outputs": [
        {
          "output_type": "stream",
          "name": "stdout",
          "text": [
            "Woof!\n"
          ]
        }
      ]
    },
    {
      "cell_type": "code",
      "source": [
        "#polymorphism\n",
        "\n"
      ],
      "metadata": {
        "id": "fz7MtrWyLh78"
      },
      "execution_count": null,
      "outputs": []
    }
  ]
}